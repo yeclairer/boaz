{
  "nbformat": 4,
  "nbformat_minor": 0,
  "metadata": {
    "colab": {
      "name": "2주차과제_곽윤경.ipynb",
      "provenance": [],
      "collapsed_sections": []
    },
    "kernelspec": {
      "name": "python3",
      "display_name": "Python 3"
    },
    "language_info": {
      "name": "python"
    }
  },
  "cells": [
    {
      "cell_type": "code",
      "metadata": {
        "id": "s4je1SNYEfHU"
      },
      "source": [
        "1. 선형회귀 예제\n",
        "출처: http://hleecaster.com/ml-linear-regression-example/"
      ],
      "execution_count": null,
      "outputs": []
    },
    {
      "cell_type": "markdown",
      "metadata": {
        "id": "XsgE9-K-ElqN"
      },
      "source": [
        "sklearn, 데이터를 불러올 때 필요한 pandas, 배열을 바꿀 때 필요한 numpy, 시각화를 위한 matplotlib를 임포트한다"
      ]
    },
    {
      "cell_type": "code",
      "metadata": {
        "id": "HJfgp8IKEx-v"
      },
      "source": [
        "from sklearn.linear_model import LinearRegression\n",
        "import pandas as pd\n",
        "import numpy as np\n",
        "import matplotlib.pyplot as plt"
      ],
      "execution_count": null,
      "outputs": []
    },
    {
      "cell_type": "markdown",
      "metadata": {
        "id": "-5GazPF0FG5E"
      },
      "source": [
        "키와 몸무게 데이터를 준비한다"
      ]
    },
    {
      "cell_type": "code",
      "metadata": {
        "colab": {
          "base_uri": "https://localhost:8080/"
        },
        "id": "hcl5_CD8PKBl",
        "outputId": "9e1e5373-d64f-4fd1-9590-934d53190a88"
      },
      "source": [
        "from google.colab import drive\n",
        "drive.mount('/content/drive')"
      ],
      "execution_count": null,
      "outputs": [
        {
          "output_type": "stream",
          "text": [
            "Mounted at /content/drive\n"
          ],
          "name": "stdout"
        }
      ]
    },
    {
      "cell_type": "code",
      "metadata": {
        "colab": {
          "base_uri": "https://localhost:8080/",
          "height": 362
        },
        "id": "KXjUAiBrE7P8",
        "outputId": "1e5d0f1e-1e4d-462f-fcf7-335dfa3bbceb"
      },
      "source": [
        "file = pd.read_csv('/content/drive/My Drive/height.csv')\n",
        "file.head(10)"
      ],
      "execution_count": null,
      "outputs": [
        {
          "output_type": "execute_result",
          "data": {
            "text/html": [
              "<div>\n",
              "<style scoped>\n",
              "    .dataframe tbody tr th:only-of-type {\n",
              "        vertical-align: middle;\n",
              "    }\n",
              "\n",
              "    .dataframe tbody tr th {\n",
              "        vertical-align: top;\n",
              "    }\n",
              "\n",
              "    .dataframe thead th {\n",
              "        text-align: right;\n",
              "    }\n",
              "</style>\n",
              "<table border=\"1\" class=\"dataframe\">\n",
              "  <thead>\n",
              "    <tr style=\"text-align: right;\">\n",
              "      <th></th>\n",
              "      <th>height</th>\n",
              "      <th>weight</th>\n",
              "    </tr>\n",
              "  </thead>\n",
              "  <tbody>\n",
              "    <tr>\n",
              "      <th>0</th>\n",
              "      <td>65.78</td>\n",
              "      <td>112.99</td>\n",
              "    </tr>\n",
              "    <tr>\n",
              "      <th>1</th>\n",
              "      <td>71.52</td>\n",
              "      <td>136.49</td>\n",
              "    </tr>\n",
              "    <tr>\n",
              "      <th>2</th>\n",
              "      <td>69.40</td>\n",
              "      <td>153.03</td>\n",
              "    </tr>\n",
              "    <tr>\n",
              "      <th>3</th>\n",
              "      <td>68.22</td>\n",
              "      <td>142.34</td>\n",
              "    </tr>\n",
              "    <tr>\n",
              "      <th>4</th>\n",
              "      <td>67.79</td>\n",
              "      <td>144.30</td>\n",
              "    </tr>\n",
              "    <tr>\n",
              "      <th>5</th>\n",
              "      <td>68.70</td>\n",
              "      <td>123.30</td>\n",
              "    </tr>\n",
              "    <tr>\n",
              "      <th>6</th>\n",
              "      <td>69.80</td>\n",
              "      <td>141.49</td>\n",
              "    </tr>\n",
              "    <tr>\n",
              "      <th>7</th>\n",
              "      <td>70.01</td>\n",
              "      <td>136.46</td>\n",
              "    </tr>\n",
              "    <tr>\n",
              "      <th>8</th>\n",
              "      <td>67.90</td>\n",
              "      <td>112.37</td>\n",
              "    </tr>\n",
              "    <tr>\n",
              "      <th>9</th>\n",
              "      <td>66.78</td>\n",
              "      <td>120.67</td>\n",
              "    </tr>\n",
              "  </tbody>\n",
              "</table>\n",
              "</div>"
            ],
            "text/plain": [
              "   height  weight\n",
              "0   65.78  112.99\n",
              "1   71.52  136.49\n",
              "2   69.40  153.03\n",
              "3   68.22  142.34\n",
              "4   67.79  144.30\n",
              "5   68.70  123.30\n",
              "6   69.80  141.49\n",
              "7   70.01  136.46\n",
              "8   67.90  112.37\n",
              "9   66.78  120.67"
            ]
          },
          "metadata": {
            "tags": []
          },
          "execution_count": 8
        }
      ]
    },
    {
      "cell_type": "markdown",
      "metadata": {
        "id": "Q-8GAIUaFH8i"
      },
      "source": [
        ""
      ]
    },
    {
      "cell_type": "code",
      "metadata": {
        "colab": {
          "base_uri": "https://localhost:8080/",
          "height": 265
        },
        "id": "-kaJ74n7L_28",
        "outputId": "42f6c7c7-a1cd-4991-99e0-187cbba3fe0f"
      },
      "source": [
        "x= file[\"height\"]\n",
        "y= file[\"weight\"]\n",
        "plt.plot(x, y, 'o')\n",
        "plt.show()"
      ],
      "execution_count": null,
      "outputs": [
        {
          "output_type": "display_data",
          "data": {
            "image/png": "[encoded data removed]",
            "text/plain": [
              "<Figure size 432x288 with 1 Axes>"
            ]
          },
          "metadata": {
            "tags": [],
            "needs_background": "light"
          }
        }
      ]
    },
    {
      "cell_type": "markdown",
      "metadata": {
        "id": "GuhuJw0eTI05"
      },
      "source": [
        "모델을 생성하고 데이터를 fit 시킨다\n",
        "(주의: X데이터를 넣을 때 .values.reshape(-1,1)를 해줌. 왜냐하면 X는 2차원 array 형태여야 하기 때문)"
      ]
    },
    {
      "cell_type": "code",
      "metadata": {
        "colab": {
          "base_uri": "https://localhost:8080/"
        },
        "id": "2f0WyJr2TJ5I",
        "outputId": "9bd6ac55-da55-44e9-8484-c1574fc5710a"
      },
      "source": [
        "model = LinearRegression()\n",
        "model.fit(x.values.reshape(-1,1), y)"
      ],
      "execution_count": null,
      "outputs": [
        {
          "output_type": "execute_result",
          "data": {
            "text/plain": [
              "LinearRegression(copy_X=True, fit_intercept=True, n_jobs=None, normalize=False)"
            ]
          },
          "metadata": {
            "tags": []
          },
          "execution_count": 11
        }
      ]
    },
    {
      "cell_type": "markdown",
      "metadata": {
        "id": "jB6PmfxjTxEr"
      },
      "source": [
        "키가 70인 사람의 몸무게를 예측한다"
      ]
    },
    {
      "cell_type": "code",
      "metadata": {
        "colab": {
          "base_uri": "https://localhost:8080/"
        },
        "id": "sIO676KKTr45",
        "outputId": "875df961-503d-4755-e938-ff2330c7e635"
      },
      "source": [
        "model.predict([[70]])"
      ],
      "execution_count": null,
      "outputs": [
        {
          "output_type": "execute_result",
          "data": {
            "text/plain": [
              "array([134.2596226])"
            ]
          },
          "metadata": {
            "tags": []
          },
          "execution_count": 12
        }
      ]
    },
    {
      "cell_type": "markdown",
      "metadata": {
        "id": "5BMx1jJ-T4zU"
      },
      "source": [
        "coef_: 기울기\n",
        "\n",
        "intercept_: 절편"
      ]
    },
    {
      "cell_type": "code",
      "metadata": {
        "colab": {
          "base_uri": "https://localhost:8080/"
        },
        "id": "iY8LeOGtT7d_",
        "outputId": "840d9032-9e9b-45b2-e4bc-38460f1c05cd"
      },
      "source": [
        "model.coef_"
      ],
      "execution_count": null,
      "outputs": [
        {
          "output_type": "execute_result",
          "data": {
            "text/plain": [
              "array([3.43267613])"
            ]
          },
          "metadata": {
            "tags": []
          },
          "execution_count": 18
        }
      ]
    },
    {
      "cell_type": "code",
      "metadata": {
        "colab": {
          "base_uri": "https://localhost:8080/"
        },
        "id": "xJjug0SmXMwF",
        "outputId": "6258b84f-a080-4ead-c3f3-7dad70790ce4"
      },
      "source": [
        "model.intercept_"
      ],
      "execution_count": null,
      "outputs": [
        {
          "output_type": "execute_result",
          "data": {
            "text/plain": [
              "-106.02770644878137"
            ]
          },
          "metadata": {
            "tags": []
          },
          "execution_count": 19
        }
      ]
    },
    {
      "cell_type": "markdown",
      "metadata": {
        "id": "dXGSdd4JVPMW"
      },
      "source": [
        "기존 X 값으로 y를 예측하게 해서 그래프를 그려보면 선이 나온다"
      ]
    },
    {
      "cell_type": "code",
      "metadata": {
        "colab": {
          "base_uri": "https://localhost:8080/",
          "height": 265
        },
        "id": "4QT38C23VOYm",
        "outputId": "b3cc4bc7-7d2e-44f2-aed0-9d0861665a39"
      },
      "source": [
        "plt.plot(x, y, 'o')\n",
        "plt.plot(x,model.predict(x.values.reshape(-1,1)))\n",
        "plt.show()"
      ],
      "execution_count": null,
      "outputs": [
        {
          "output_type": "display_data",
          "data": {
            "image/png": "[encoded data removed]",
            "text/plain": [
              "<Figure size 432x288 with 1 Axes>"
            ]
          },
          "metadata": {
            "tags": [],
            "needs_background": "light"
          }
        }
      ]
    },
    {
      "cell_type": "markdown",
      "metadata": {
        "id": "loWfgKs97opE"
      },
      "source": [
        "2. 다중선형회귀 예제\n",
        "\n",
        "출처: http://hleecaster.com/ml-multiple-linear-regression-example/"
      ]
    },
    {
      "cell_type": "markdown",
      "metadata": {
        "id": "erw1niDj9ckB"
      },
      "source": [
        "rent(=임대료)항목을 예측하기위해 14개의 정보를 사용한다"
      ]
    },
    {
      "cell_type": "code",
      "metadata": {
        "colab": {
          "base_uri": "https://localhost:8080/",
          "height": 469
        },
        "id": "NTOF6tlF85ai",
        "outputId": "693d3c9e-a445-4009-c9c2-4934a1825a83"
      },
      "source": [
        "file2 = pd.read_csv('/content/drive/My Drive/manhattan.csv')\n",
        "file2.head(10)"
      ],
      "execution_count": null,
      "outputs": [
        {
          "output_type": "execute_result",
          "data": {
            "text/html": [
              "<div>\n",
              "<style scoped>\n",
              "    .dataframe tbody tr th:only-of-type {\n",
              "        vertical-align: middle;\n",
              "    }\n",
              "\n",
              "    .dataframe tbody tr th {\n",
              "        vertical-align: top;\n",
              "    }\n",
              "\n",
              "    .dataframe thead th {\n",
              "        text-align: right;\n",
              "    }\n",
              "</style>\n",
              "<table border=\"1\" class=\"dataframe\">\n",
              "  <thead>\n",
              "    <tr style=\"text-align: right;\">\n",
              "      <th></th>\n",
              "      <th>rental_id</th>\n",
              "      <th>rent</th>\n",
              "      <th>bedrooms</th>\n",
              "      <th>bathrooms</th>\n",
              "      <th>size_sqft</th>\n",
              "      <th>min_to_subway</th>\n",
              "      <th>floor</th>\n",
              "      <th>building_age_yrs</th>\n",
              "      <th>no_fee</th>\n",
              "      <th>has_roofdeck</th>\n",
              "      <th>has_washer_dryer</th>\n",
              "      <th>has_doorman</th>\n",
              "      <th>has_elevator</th>\n",
              "      <th>has_dishwasher</th>\n",
              "      <th>has_patio</th>\n",
              "      <th>has_gym</th>\n",
              "      <th>neighborhood</th>\n",
              "      <th>borough</th>\n",
              "    </tr>\n",
              "  </thead>\n",
              "  <tbody>\n",
              "    <tr>\n",
              "      <th>0</th>\n",
              "      <td>1545</td>\n",
              "      <td>2550</td>\n",
              "      <td>0.0</td>\n",
              "      <td>1</td>\n",
              "      <td>480</td>\n",
              "      <td>9</td>\n",
              "      <td>2.0</td>\n",
              "      <td>17</td>\n",
              "      <td>1</td>\n",
              "      <td>1</td>\n",
              "      <td>0</td>\n",
              "      <td>0</td>\n",
              "      <td>1</td>\n",
              "      <td>1</td>\n",
              "      <td>0</td>\n",
              "      <td>1</td>\n",
              "      <td>Upper East Side</td>\n",
              "      <td>Manhattan</td>\n",
              "    </tr>\n",
              "    <tr>\n",
              "      <th>1</th>\n",
              "      <td>2472</td>\n",
              "      <td>11500</td>\n",
              "      <td>2.0</td>\n",
              "      <td>2</td>\n",
              "      <td>2000</td>\n",
              "      <td>4</td>\n",
              "      <td>1.0</td>\n",
              "      <td>96</td>\n",
              "      <td>0</td>\n",
              "      <td>0</td>\n",
              "      <td>0</td>\n",
              "      <td>0</td>\n",
              "      <td>0</td>\n",
              "      <td>0</td>\n",
              "      <td>0</td>\n",
              "      <td>0</td>\n",
              "      <td>Greenwich Village</td>\n",
              "      <td>Manhattan</td>\n",
              "    </tr>\n",
              "    <tr>\n",
              "      <th>2</th>\n",
              "      <td>2919</td>\n",
              "      <td>4500</td>\n",
              "      <td>1.0</td>\n",
              "      <td>1</td>\n",
              "      <td>916</td>\n",
              "      <td>2</td>\n",
              "      <td>51.0</td>\n",
              "      <td>29</td>\n",
              "      <td>0</td>\n",
              "      <td>1</td>\n",
              "      <td>0</td>\n",
              "      <td>1</td>\n",
              "      <td>1</td>\n",
              "      <td>1</td>\n",
              "      <td>0</td>\n",
              "      <td>0</td>\n",
              "      <td>Midtown</td>\n",
              "      <td>Manhattan</td>\n",
              "    </tr>\n",
              "    <tr>\n",
              "      <th>3</th>\n",
              "      <td>2790</td>\n",
              "      <td>4795</td>\n",
              "      <td>1.0</td>\n",
              "      <td>1</td>\n",
              "      <td>975</td>\n",
              "      <td>3</td>\n",
              "      <td>8.0</td>\n",
              "      <td>31</td>\n",
              "      <td>0</td>\n",
              "      <td>0</td>\n",
              "      <td>0</td>\n",
              "      <td>1</td>\n",
              "      <td>1</td>\n",
              "      <td>1</td>\n",
              "      <td>0</td>\n",
              "      <td>1</td>\n",
              "      <td>Greenwich Village</td>\n",
              "      <td>Manhattan</td>\n",
              "    </tr>\n",
              "    <tr>\n",
              "      <th>4</th>\n",
              "      <td>3946</td>\n",
              "      <td>17500</td>\n",
              "      <td>2.0</td>\n",
              "      <td>2</td>\n",
              "      <td>4800</td>\n",
              "      <td>3</td>\n",
              "      <td>4.0</td>\n",
              "      <td>136</td>\n",
              "      <td>0</td>\n",
              "      <td>0</td>\n",
              "      <td>0</td>\n",
              "      <td>1</td>\n",
              "      <td>1</td>\n",
              "      <td>1</td>\n",
              "      <td>0</td>\n",
              "      <td>1</td>\n",
              "      <td>Soho</td>\n",
              "      <td>Manhattan</td>\n",
              "    </tr>\n",
              "    <tr>\n",
              "      <th>5</th>\n",
              "      <td>10817</td>\n",
              "      <td>3800</td>\n",
              "      <td>3.0</td>\n",
              "      <td>2</td>\n",
              "      <td>1100</td>\n",
              "      <td>3</td>\n",
              "      <td>5.0</td>\n",
              "      <td>101</td>\n",
              "      <td>0</td>\n",
              "      <td>0</td>\n",
              "      <td>0</td>\n",
              "      <td>0</td>\n",
              "      <td>0</td>\n",
              "      <td>0</td>\n",
              "      <td>0</td>\n",
              "      <td>0</td>\n",
              "      <td>Central Harlem</td>\n",
              "      <td>Manhattan</td>\n",
              "    </tr>\n",
              "    <tr>\n",
              "      <th>6</th>\n",
              "      <td>9077</td>\n",
              "      <td>1995</td>\n",
              "      <td>0.0</td>\n",
              "      <td>0</td>\n",
              "      <td>600</td>\n",
              "      <td>6</td>\n",
              "      <td>1.0</td>\n",
              "      <td>115</td>\n",
              "      <td>0</td>\n",
              "      <td>0</td>\n",
              "      <td>0</td>\n",
              "      <td>0</td>\n",
              "      <td>0</td>\n",
              "      <td>0</td>\n",
              "      <td>0</td>\n",
              "      <td>0</td>\n",
              "      <td>Midtown East</td>\n",
              "      <td>Manhattan</td>\n",
              "    </tr>\n",
              "    <tr>\n",
              "      <th>7</th>\n",
              "      <td>5150</td>\n",
              "      <td>2995</td>\n",
              "      <td>0.0</td>\n",
              "      <td>1</td>\n",
              "      <td>579</td>\n",
              "      <td>6</td>\n",
              "      <td>21.0</td>\n",
              "      <td>33</td>\n",
              "      <td>0</td>\n",
              "      <td>0</td>\n",
              "      <td>0</td>\n",
              "      <td>0</td>\n",
              "      <td>0</td>\n",
              "      <td>0</td>\n",
              "      <td>0</td>\n",
              "      <td>0</td>\n",
              "      <td>Battery Park City</td>\n",
              "      <td>Manhattan</td>\n",
              "    </tr>\n",
              "    <tr>\n",
              "      <th>8</th>\n",
              "      <td>9507</td>\n",
              "      <td>15000</td>\n",
              "      <td>2.0</td>\n",
              "      <td>2</td>\n",
              "      <td>1715</td>\n",
              "      <td>0</td>\n",
              "      <td>30.0</td>\n",
              "      <td>2</td>\n",
              "      <td>0</td>\n",
              "      <td>0</td>\n",
              "      <td>0</td>\n",
              "      <td>0</td>\n",
              "      <td>0</td>\n",
              "      <td>0</td>\n",
              "      <td>0</td>\n",
              "      <td>0</td>\n",
              "      <td>Flatiron</td>\n",
              "      <td>Manhattan</td>\n",
              "    </tr>\n",
              "    <tr>\n",
              "      <th>9</th>\n",
              "      <td>1437</td>\n",
              "      <td>4650</td>\n",
              "      <td>1.0</td>\n",
              "      <td>1</td>\n",
              "      <td>915</td>\n",
              "      <td>5</td>\n",
              "      <td>5.0</td>\n",
              "      <td>106</td>\n",
              "      <td>0</td>\n",
              "      <td>0</td>\n",
              "      <td>0</td>\n",
              "      <td>0</td>\n",
              "      <td>0</td>\n",
              "      <td>0</td>\n",
              "      <td>0</td>\n",
              "      <td>0</td>\n",
              "      <td>Upper East Side</td>\n",
              "      <td>Manhattan</td>\n",
              "    </tr>\n",
              "  </tbody>\n",
              "</table>\n",
              "</div>"
            ],
            "text/plain": [
              "   rental_id   rent  bedrooms  ...  has_gym       neighborhood    borough\n",
              "0       1545   2550       0.0  ...        1    Upper East Side  Manhattan\n",
              "1       2472  11500       2.0  ...        0  Greenwich Village  Manhattan\n",
              "2       2919   4500       1.0  ...        0            Midtown  Manhattan\n",
              "3       2790   4795       1.0  ...        1  Greenwich Village  Manhattan\n",
              "4       3946  17500       2.0  ...        1               Soho  Manhattan\n",
              "5      10817   3800       3.0  ...        0     Central Harlem  Manhattan\n",
              "6       9077   1995       0.0  ...        0       Midtown East  Manhattan\n",
              "7       5150   2995       0.0  ...        0  Battery Park City  Manhattan\n",
              "8       9507  15000       2.0  ...        0           Flatiron  Manhattan\n",
              "9       1437   4650       1.0  ...        0    Upper East Side  Manhattan\n",
              "\n",
              "[10 rows x 18 columns]"
            ]
          },
          "metadata": {
            "tags": []
          },
          "execution_count": 4
        }
      ]
    },
    {
      "cell_type": "markdown",
      "metadata": {
        "id": "U8I4j7Xk9s5t"
      },
      "source": [
        "학습데이터와 테스트데이터로 분리한다\n",
        "\n",
        "모든 데이터에 임대료 정답이 있으므로 테스트데이터를 예측모델에 넣어서 정답을 잘 맞추는지 보기위함이다"
      ]
    },
    {
      "cell_type": "code",
      "metadata": {
        "id": "NCaPTV-M9oyT"
      },
      "source": [
        "from sklearn.model_selection import train_test_split\n",
        "\n",
        "x = file2[['bedrooms', 'bathrooms', 'size_sqft', 'min_to_subway', 'floor', 'building_age_yrs', 'no_fee', 'has_roofdeck', 'has_washer_dryer', 'has_doorman', 'has_elevator', 'has_dishwasher', 'has_patio', 'has_gym']]\n",
        "y = file2[['rent']]\n",
        "\n",
        "x_train, x_test, y_train, y_test= train_test_split(x,y,train_size=0.8,test_size=0.2)"
      ],
      "execution_count": null,
      "outputs": []
    },
    {
      "cell_type": "markdown",
      "metadata": {
        "id": "TaS93ssc-nYH"
      },
      "source": [
        "학습데이터를 통해 모델을 생성한다"
      ]
    },
    {
      "cell_type": "code",
      "metadata": {
        "colab": {
          "base_uri": "https://localhost:8080/"
        },
        "id": "aTrOcQzB-0hK",
        "outputId": "0d55fbd0-2d1b-4935-aa5e-d0e50d4fd84e"
      },
      "source": [
        "from sklearn.linear_model import LinearRegression\n",
        "\n",
        "model2= LinearRegression()\n",
        "model2.fit(x_train,y_train)"
      ],
      "execution_count": null,
      "outputs": [
        {
          "output_type": "execute_result",
          "data": {
            "text/plain": [
              "LinearRegression(copy_X=True, fit_intercept=True, n_jobs=None, normalize=False)"
            ]
          },
          "metadata": {
            "tags": []
          },
          "execution_count": 7
        }
      ]
    },
    {
      "cell_type": "markdown",
      "metadata": {
        "id": "JimFa7rgCl4M"
      },
      "source": [
        "임의로 14개의 항목값을 넣어주면 임대료를 예측해준다"
      ]
    },
    {
      "cell_type": "code",
      "metadata": {
        "id": "h540Pe9i_Coq"
      },
      "source": [
        "my_apartment = [[1, 1, 620, 16, 1, 98, 1, 0, 1, 0, 0, 1, 1, 0]]\n",
        "my_predict = model2.predict(my_apartment)"
      ],
      "execution_count": null,
      "outputs": []
    },
    {
      "cell_type": "markdown",
      "metadata": {
        "id": "Czk0N8dvDJxS"
      },
      "source": [
        "x_test를 넣어 예측한 y 값들을 y_predict라고 저장한다"
      ]
    },
    {
      "cell_type": "code",
      "metadata": {
        "id": "Tq6XHwuyC7_w"
      },
      "source": [
        "y_predict= model2.predict(x_test)"
      ],
      "execution_count": null,
      "outputs": []
    },
    {
      "cell_type": "markdown",
      "metadata": {
        "id": "tlDpcJeNDOab"
      },
      "source": [
        "x축은 실제 임대료, y축은 예측한 임대료로 시각화한다\n",
        "\n",
        "임대료가 낮은 항목은 꽤 비슷하게 맞추지만 높은 임대료에서는 오차가 좀 발생하는 것을 볼 수 있다"
      ]
    },
    {
      "cell_type": "code",
      "metadata": {
        "colab": {
          "base_uri": "https://localhost:8080/",
          "height": 294
        },
        "id": "K8q8OYWBC4V3",
        "outputId": "c26c2aac-8a61-4199-fb3c-08ca220efd0d"
      },
      "source": [
        "import matplotlib.pyplot as plt\n",
        "plt.scatter(y_test, y_predict, alpha=0.4)\n",
        "plt.xlabel(\"Actual Rent\")\n",
        "plt.ylabel(\"Predicted Rent\")\n",
        "plt.title(\"MULTIPLE LINEAR REGRESSION\")\n",
        "plt.show()"
      ],
      "execution_count": null,
      "outputs": [
        {
          "output_type": "display_data",
          "data": {
            "image/png": "[encoded data removed]",
            "text/plain": [
              "<Figure size 432x288 with 1 Axes>"
            ]
          },
          "metadata": {
            "tags": [],
            "needs_background": "light"
          }
        }
      ]
    },
    {
      "cell_type": "markdown",
      "metadata": {
        "id": "vqXj6nLwDodC"
      },
      "source": [
        "회귀계수와 상수 값을 확인한다\n",
        "14개의 변수를 사용했으므로 회귀계수도 14개가 존재한다"
      ]
    },
    {
      "cell_type": "code",
      "metadata": {
        "colab": {
          "base_uri": "https://localhost:8080/"
        },
        "id": "77f0JH4mDvz_",
        "outputId": "47f72c2c-f58f-4b25-f867-84df99a213da"
      },
      "source": [
        "print(model2.coef_)"
      ],
      "execution_count": null,
      "outputs": [
        {
          "output_type": "stream",
          "text": [
            "[[-347.48941179 1111.17577932    5.14457599  -17.04847495   23.49407732\n",
            "    -7.28886941 -114.93040336   74.39147508  212.26438254 -147.10682941\n",
            "    44.54250695  -44.92448152 -101.1268856     1.62970908]]\n"
          ],
          "name": "stdout"
        }
      ]
    },
    {
      "cell_type": "code",
      "metadata": {
        "colab": {
          "base_uri": "https://localhost:8080/"
        },
        "id": "02bVk54ED336",
        "outputId": "9be0029a-b757-4e6f-9b5d-ff3dacb83c20"
      },
      "source": [
        "print(model2.intercept_)"
      ],
      "execution_count": null,
      "outputs": [
        {
          "output_type": "stream",
          "text": [
            "[-501.28427122]\n"
          ],
          "name": "stdout"
        }
      ]
    },
    {
      "cell_type": "markdown",
      "metadata": {
        "id": "Be39C-EuD9RK"
      },
      "source": [
        "어떤 변수가 임대료와 연관이 있는지 위해 scatter플롯을 그려본다\n",
        "\n",
        "면적과 지어진 시기를 보면 면적은 임대료와 관계가 있고 얼마나 오래되었는지는 별로 영향이 없음을 알 수 있다"
      ]
    },
    {
      "cell_type": "code",
      "metadata": {
        "colab": {
          "base_uri": "https://localhost:8080/",
          "height": 265
        },
        "id": "Ljy6LCZDEHCR",
        "outputId": "fc399d08-8572-4998-eeb0-137bfed67903"
      },
      "source": [
        "# 주택의 면적 'size_sqft'과 가격 'rent'\n",
        "plt.scatter(file2[['size_sqft']], file2[['rent']], alpha=0.4)\n",
        "plt.show()"
      ],
      "execution_count": null,
      "outputs": [
        {
          "output_type": "display_data",
          "data": {
            "image/png": "[encoded data removed]",
            "text/plain": [
              "<Figure size 432x288 with 1 Axes>"
            ]
          },
          "metadata": {
            "tags": [],
            "needs_background": "light"
          }
        }
      ]
    },
    {
      "cell_type": "code",
      "metadata": {
        "colab": {
          "base_uri": "https://localhost:8080/",
          "height": 265
        },
        "id": "CygAjsoXEOII",
        "outputId": "57e1efcd-e178-4b22-c905-f6252629f1d3"
      },
      "source": [
        "# 주택이 얼마나 오래 전에 지어졌는지 'building_age_yrs'와 가격 'rent'\n",
        "plt.scatter(file2[['building_age_yrs']], file2[['rent']], alpha=0.4)\n",
        "plt.show()"
      ],
      "execution_count": null,
      "outputs": [
        {
          "output_type": "display_data",
          "data": {
            "image/png": "[encoded data removed]",
            "text/plain": [
              "<Figure size 432x288 with 1 Axes>"
            ]
          },
          "metadata": {
            "tags": [],
            "needs_background": "light"
          }
        }
      ]
    },
    {
      "cell_type": "markdown",
      "metadata": {
        "id": "rsFzCpghE78a"
      },
      "source": [
        "모델의 정확도를 평가하기 위해 테스트데이터를 사용한다\n",
        "다중선형회귀 모델의 정확도 평가에는 잔차분석을 사용한다\n",
        "(잔차: 실제 y값- 예측된 y값의 차이)\n",
        "\n",
        ".score() 메소드는 R²라고 하는 결정계수를 반환하는데, 이 값이 클수록 실제값과 예측값이 유사한 것이다- 일반적으로 0.7정도면 양호하다고 간주한다\n",
        "\n",
        "예를 들어, 주택 사이즈(“size_sqft”)와 침실 개수(“bedrooms”)를 기준으로 임대료를 예측하는 모델의 R²이 0.72인 경우 그 2개의 변수들이 함께 임대료 변동의 72%를 설명한다는 뜻이다.\n"
      ]
    },
    {
      "cell_type": "code",
      "metadata": {
        "colab": {
          "base_uri": "https://localhost:8080/"
        },
        "id": "ZF70EX6-G7hb",
        "outputId": "3f10d475-0fb7-4ca5-ddec-1c1342cb2418"
      },
      "source": [
        "print(model2.score(x_train, y_train))"
      ],
      "execution_count": null,
      "outputs": [
        {
          "output_type": "stream",
          "text": [
            "0.7904291745732794\n"
          ],
          "name": "stdout"
        }
      ]
    },
    {
      "cell_type": "markdown",
      "metadata": {
        "id": "FdtGIZbOHBgA"
      },
      "source": [
        "이 결과는 임대료의 79%를 위의 14개의 항목으로 설명할 수 있다는 의미이다"
      ]
    },
    {
      "cell_type": "markdown",
      "metadata": {
        "id": "LVQuyBs2IgDK"
      },
      "source": [
        "3. 로지스틱 회귀 예제\n",
        "\n",
        "출처: http://hleecaster.com/ml-logistic-regression-example/"
      ]
    },
    {
      "cell_type": "code",
      "metadata": {
        "colab": {
          "base_uri": "https://localhost:8080/"
        },
        "id": "zKFQBAT7IkjH",
        "outputId": "68367690-642c-486b-c80d-810e35c809c9"
      },
      "source": [
        "file3 = pd.read_csv('/content/drive/My Drive/Titanic Passengers.csv')\n",
        "print(file3.shape)\n",
        "print(file3.head())"
      ],
      "execution_count": null,
      "outputs": [
        {
          "output_type": "stream",
          "text": [
            "(1309, 14)\n",
            "   pclass  survived  ...   body                         homedest\n",
            "0       1         1  ...    NaN                     St Louis, MO\n",
            "1       1         1  ...    NaN  Montreal, PQ / Chesterville, ON\n",
            "2       1         0  ...    NaN  Montreal, PQ / Chesterville, ON\n",
            "3       1         0  ...  135.0  Montreal, PQ / Chesterville, ON\n",
            "4       1         0  ...    NaN  Montreal, PQ / Chesterville, ON\n",
            "\n",
            "[5 rows x 14 columns]\n"
          ],
          "name": "stdout"
        }
      ]
    },
    {
      "cell_type": "markdown",
      "metadata": {
        "id": "X4pYY6uSKIJN"
      },
      "source": [
        "데이터 전처리하기\n",
        "\n",
        "pclass, sex, age가 생존여부에 영향을 미쳤을것이라 가설을 세우고, 문자열 데이터를 숫자로 변환해준다"
      ]
    },
    {
      "cell_type": "code",
      "metadata": {
        "id": "vnDl0aRaKY3D"
      },
      "source": [
        "file3['sex'] = file3['sex'].map({'female':1,'male':0})"
      ],
      "execution_count": null,
      "outputs": []
    },
    {
      "cell_type": "markdown",
      "metadata": {
        "id": "PkY2qC3XKqnj"
      },
      "source": [
        "결측치 채워주기\n",
        "\n",
        "데이터에 age값이 비어있는 경우가 있는데 이를 평균값으로 대체하여 넣어준다"
      ]
    },
    {
      "cell_type": "code",
      "metadata": {
        "id": "0YoTR0FFKqZC"
      },
      "source": [
        "file3['age'].fillna(value= file3['age'].mean(), inplace=True)"
      ],
      "execution_count": null,
      "outputs": []
    },
    {
      "cell_type": "markdown",
      "metadata": {
        "id": "mbsckG2JK8PI"
      },
      "source": [
        "feature 분리하기\n",
        "\n",
        "pclass 항목의 1등석/2등석 탑승정보를 각각의 feature로 만들기 위해 컬럼을 새로 생성한다"
      ]
    },
    {
      "cell_type": "code",
      "metadata": {
        "id": "iRJihxPYLq1v"
      },
      "source": [
        "file3['firstclass']= file3['pclass'].apply(lambda x: 1 if x== 1 else 0)\n",
        "file3['secondclass']= file3['pclass'].apply(lambda x: 1 if x== 2 else 0)"
      ],
      "execution_count": null,
      "outputs": []
    },
    {
      "cell_type": "markdown",
      "metadata": {
        "id": "0mfbJGwBL_GU"
      },
      "source": [
        "데이터 셋 준비 완료"
      ]
    },
    {
      "cell_type": "code",
      "metadata": {
        "id": "V-XK5gmeMBde"
      },
      "source": [
        "features = file3[['sex', 'age', 'firstclass', 'secondclass']]\n",
        "survival = file3['survived']"
      ],
      "execution_count": null,
      "outputs": []
    },
    {
      "cell_type": "markdown",
      "metadata": {
        "id": "ElPKXC4EMOQD"
      },
      "source": [
        "train set과 test set을 분리한다"
      ]
    },
    {
      "cell_type": "code",
      "metadata": {
        "id": "ADD06BP8MSOt"
      },
      "source": [
        "from sklearn.model_selection import train_test_split\n",
        "train_features, test_features, train_labels, test_labels = train_test_split(features, survival)"
      ],
      "execution_count": null,
      "outputs": []
    },
    {
      "cell_type": "markdown",
      "metadata": {
        "id": "o4CZNp-6MnbI"
      },
      "source": [
        "데이터 정규화(=스케일링) 하기\n",
        "\n",
        "sklearn이 제공하는 StandardScaler를 활용한다\n",
        "\n",
        "StandardScaler는 평균 0, 표준편차 1로 변환하는 방법이지만 이외에도 최소값 0, 최대값 1이 되도록 변환하는 MinMaxScaler, 중앙값(median) 0, IQR(interquartile range) 1이 되도록 변환하는 RobustScaler 등이 있다"
      ]
    },
    {
      "cell_type": "code",
      "metadata": {
        "id": "SP8p0NtYMwUB"
      },
      "source": [
        "from sklearn.preprocessing import StandardScaler\n",
        "scaler = StandardScaler()\n",
        "\n",
        "train_features= scaler.fit_transform(train_features)\n",
        "test_features= scaler.transform(test_features)"
      ],
      "execution_count": null,
      "outputs": []
    },
    {
      "cell_type": "markdown",
      "metadata": {
        "id": "hKNcqZvHNN8Y"
      },
      "source": [
        "모델을 생성하고 데이터를 넣어 fit 해준다"
      ]
    },
    {
      "cell_type": "code",
      "metadata": {
        "colab": {
          "base_uri": "https://localhost:8080/"
        },
        "id": "FPJ5bEKQNRb6",
        "outputId": "7e9c922a-aea5-473f-9122-bf469d090665"
      },
      "source": [
        "from sklearn.linear_model import LogisticRegression\n",
        "model3 = LogisticRegression()\n",
        "model3.fit(train_features, train_labels)"
      ],
      "execution_count": null,
      "outputs": [
        {
          "output_type": "execute_result",
          "data": {
            "text/plain": [
              "LogisticRegression(C=1.0, class_weight=None, dual=False, fit_intercept=True,\n",
              "                   intercept_scaling=1, l1_ratio=None, max_iter=100,\n",
              "                   multi_class='auto', n_jobs=None, penalty='l2',\n",
              "                   random_state=None, solver='lbfgs', tol=0.0001, verbose=0,\n",
              "                   warm_start=False)"
            ]
          },
          "metadata": {
            "tags": []
          },
          "execution_count": 34
        }
      ]
    },
    {
      "cell_type": "markdown",
      "metadata": {
        "id": "EEXQwOeyNUec"
      },
      "source": [
        "train set으로 정확도를 출력한다"
      ]
    },
    {
      "cell_type": "code",
      "metadata": {
        "colab": {
          "base_uri": "https://localhost:8080/"
        },
        "id": "7xoSrzwYNXls",
        "outputId": "88448e00-380d-4534-9355-f65f0f0feb38"
      },
      "source": [
        "print(model3.score(train_features, train_labels))"
      ],
      "execution_count": null,
      "outputs": [
        {
          "output_type": "stream",
          "text": [
            "0.7961264016309888\n"
          ],
          "name": "stdout"
        }
      ]
    },
    {
      "cell_type": "markdown",
      "metadata": {
        "id": "l9IlHPWlNemu"
      },
      "source": [
        "test set으로 정확도를 출력한다"
      ]
    },
    {
      "cell_type": "code",
      "metadata": {
        "colab": {
          "base_uri": "https://localhost:8080/"
        },
        "id": "kAvDC4RfNffs",
        "outputId": "3d0dd326-2afd-40e5-97d4-e2eb2c8d157f"
      },
      "source": [
        "print(model3.score(test_features, test_labels))"
      ],
      "execution_count": null,
      "outputs": [
        {
          "output_type": "stream",
          "text": [
            "0.7591463414634146\n"
          ],
          "name": "stdout"
        }
      ]
    },
    {
      "cell_type": "markdown",
      "metadata": {
        "id": "OsJZxWL-NsI6"
      },
      "source": [
        "각 feature들의 계수를 통해 생존여부에 영향을 미친 feature를 찾는다\n",
        "순서대로 sex, age, firstclass, secondclass 이므로 성별과 일등석 탑승여부가 중요함을 알 수 있다\n",
        "나이는 음수인데 이는 나이가 많을수록 생존확률이 감소한다는 것이다"
      ]
    },
    {
      "cell_type": "code",
      "metadata": {
        "colab": {
          "base_uri": "https://localhost:8080/"
        },
        "id": "WJQ_1q5gOAID",
        "outputId": "e941a0b5-a4a7-4d0a-9104-e0c82e065b92"
      },
      "source": [
        "print(model3.coef_)"
      ],
      "execution_count": null,
      "outputs": [
        {
          "output_type": "stream",
          "text": [
            "[[ 1.20318562 -0.4970323   0.91649353  0.36747777]]\n"
          ],
          "name": "stdout"
        }
      ]
    },
    {
      "cell_type": "code",
      "metadata": {
        "colab": {
          "base_uri": "https://localhost:8080/"
        },
        "id": "caFQfUZROQWf",
        "outputId": "802ff649-a14b-40cc-9238-18dfc5885902"
      },
      "source": [
        "Jack = np.array([0.0, 20.0, 0.0, 0.0])\n",
        "me= np.array([1.0, 25.0, 1.0, 0.0])\n",
        "sample= np.array([Jack, me])\n",
        "sample= scaler.transform(sample)\n",
        "print(model3.predict(sample))\n",
        "print(model3.predict_proba(sample))"
      ],
      "execution_count": null,
      "outputs": [
        {
          "output_type": "stream",
          "text": [
            "[0 1]\n",
            "[[0.86959206 0.13040794]\n",
            " [0.07258273 0.92741727]]\n"
          ],
          "name": "stdout"
        }
      ]
    }
  ]
}
